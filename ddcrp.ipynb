{
  "nbformat": 4,
  "nbformat_minor": 0,
  "metadata": {
    "colab": {
      "provenance": [],
      "authorship_tag": "ABX9TyMUULLIbRBFjnne0Fn+g4EA",
      "include_colab_link": true
    },
    "kernelspec": {
      "name": "python3",
      "display_name": "Python 3"
    },
    "language_info": {
      "name": "python"
    }
  },
  "cells": [
    {
      "cell_type": "markdown",
      "metadata": {
        "id": "view-in-github",
        "colab_type": "text"
      },
      "source": [
        "<a href=\"https://colab.research.google.com/github/zahraDehghanian97/ddcrp_Cora/blob/master/ddcrp.ipynb\" target=\"_parent\"><img src=\"https://colab.research.google.com/assets/colab-badge.svg\" alt=\"Open In Colab\"/></a>"
      ]
    },
    {
      "cell_type": "code",
      "source": [
        "!pip install torch_geometric"
      ],
      "metadata": {
        "colab": {
          "base_uri": "https://localhost:8080/"
        },
        "id": "8ots1QYIPPCM",
        "outputId": "2b7c3d62-944e-4aa4-ddda-261970403b43"
      },
      "execution_count": 1,
      "outputs": [
        {
          "output_type": "stream",
          "name": "stdout",
          "text": [
            "Looking in indexes: https://pypi.org/simple, https://us-python.pkg.dev/colab-wheels/public/simple/\n",
            "Collecting torch_geometric\n",
            "  Downloading torch_geometric-2.3.1.tar.gz (661 kB)\n",
            "\u001b[2K     \u001b[90m━━━━━━━━━━━━━━━━━━━━━━━━━━━━━━━━━━━━━━━\u001b[0m \u001b[32m661.6/661.6 kB\u001b[0m \u001b[31m6.4 MB/s\u001b[0m eta \u001b[36m0:00:00\u001b[0m\n",
            "\u001b[?25h  Installing build dependencies ... \u001b[?25l\u001b[?25hdone\n",
            "  Getting requirements to build wheel ... \u001b[?25l\u001b[?25hdone\n",
            "  Preparing metadata (pyproject.toml) ... \u001b[?25l\u001b[?25hdone\n",
            "Requirement already satisfied: scikit-learn in /usr/local/lib/python3.10/dist-packages (from torch_geometric) (1.2.2)\n",
            "Requirement already satisfied: pyparsing in /usr/local/lib/python3.10/dist-packages (from torch_geometric) (3.0.9)\n",
            "Requirement already satisfied: jinja2 in /usr/local/lib/python3.10/dist-packages (from torch_geometric) (3.1.2)\n",
            "Requirement already satisfied: psutil>=5.8.0 in /usr/local/lib/python3.10/dist-packages (from torch_geometric) (5.9.5)\n",
            "Requirement already satisfied: numpy in /usr/local/lib/python3.10/dist-packages (from torch_geometric) (1.22.4)\n",
            "Requirement already satisfied: tqdm in /usr/local/lib/python3.10/dist-packages (from torch_geometric) (4.65.0)\n",
            "Requirement already satisfied: requests in /usr/local/lib/python3.10/dist-packages (from torch_geometric) (2.27.1)\n",
            "Requirement already satisfied: scipy in /usr/local/lib/python3.10/dist-packages (from torch_geometric) (1.10.1)\n",
            "Requirement already satisfied: MarkupSafe>=2.0 in /usr/local/lib/python3.10/dist-packages (from jinja2->torch_geometric) (2.1.2)\n",
            "Requirement already satisfied: idna<4,>=2.5 in /usr/local/lib/python3.10/dist-packages (from requests->torch_geometric) (3.4)\n",
            "Requirement already satisfied: charset-normalizer~=2.0.0 in /usr/local/lib/python3.10/dist-packages (from requests->torch_geometric) (2.0.12)\n",
            "Requirement already satisfied: certifi>=2017.4.17 in /usr/local/lib/python3.10/dist-packages (from requests->torch_geometric) (2022.12.7)\n",
            "Requirement already satisfied: urllib3<1.27,>=1.21.1 in /usr/local/lib/python3.10/dist-packages (from requests->torch_geometric) (1.26.15)\n",
            "Requirement already satisfied: threadpoolctl>=2.0.0 in /usr/local/lib/python3.10/dist-packages (from scikit-learn->torch_geometric) (3.1.0)\n",
            "Requirement already satisfied: joblib>=1.1.1 in /usr/local/lib/python3.10/dist-packages (from scikit-learn->torch_geometric) (1.2.0)\n",
            "Building wheels for collected packages: torch_geometric\n",
            "  Building wheel for torch_geometric (pyproject.toml) ... \u001b[?25l\u001b[?25hdone\n",
            "  Created wheel for torch_geometric: filename=torch_geometric-2.3.1-py3-none-any.whl size=910476 sha256=86a83e03543ba2d4b0995f95547eb1588b9ffb7d698d0b4a99253448825c7569\n",
            "  Stored in directory: /root/.cache/pip/wheels/ac/dc/30/e2874821ff308ee67dcd7a66dbde912411e19e35a1addda028\n",
            "Successfully built torch_geometric\n",
            "Installing collected packages: torch_geometric\n",
            "Successfully installed torch_geometric-2.3.1\n"
          ]
        }
      ]
    },
    {
      "cell_type": "markdown",
      "source": [
        "1. Get Dataset"
      ],
      "metadata": {
        "id": "rlvZrJ2Y0p-h"
      }
    },
    {
      "cell_type": "code",
      "source": [
        "from torch_geometric.datasets import Planetoid\n",
        "import numpy as np\n",
        "from numpy import seterr, isneginf, array\n",
        "from scipy.special import gammaln\n",
        "from scipy.special import logsumexp\n",
        "\n",
        "\n",
        "dataset = Planetoid(\"/content/sample_data/Cora\" , name = 'Cora')"
      ],
      "metadata": {
        "colab": {
          "base_uri": "https://localhost:8080/"
        },
        "id": "nhSEBP4-Pcx3",
        "outputId": "bd13b27a-e78f-4c41-84b5-9e5d914e112e"
      },
      "execution_count": 2,
      "outputs": [
        {
          "output_type": "stream",
          "name": "stderr",
          "text": [
            "Downloading https://github.com/kimiyoung/planetoid/raw/master/data/ind.cora.x\n",
            "Downloading https://github.com/kimiyoung/planetoid/raw/master/data/ind.cora.tx\n",
            "Downloading https://github.com/kimiyoung/planetoid/raw/master/data/ind.cora.allx\n",
            "Downloading https://github.com/kimiyoung/planetoid/raw/master/data/ind.cora.y\n",
            "Downloading https://github.com/kimiyoung/planetoid/raw/master/data/ind.cora.ty\n",
            "Downloading https://github.com/kimiyoung/planetoid/raw/master/data/ind.cora.ally\n",
            "Downloading https://github.com/kimiyoung/planetoid/raw/master/data/ind.cora.graph\n",
            "Downloading https://github.com/kimiyoung/planetoid/raw/master/data/ind.cora.test.index\n",
            "Processing...\n",
            "Done!\n"
          ]
        }
      ]
    },
    {
      "cell_type": "code",
      "source": [
        "print(dataset.data.keys)\n",
        "x = dataset.data.x.detach().cpu().numpy()[0:100]\n",
        "y = dataset.data.y.detach().cpu().numpy()[0:100]\n",
        "\n",
        "# x = np.array([[10,0,0,0,0],[10,0,0,0,0],[5,0,0,0,0],[11,0,0,0,1],[0,10,0,0,1],[0,10,0,0,0],[0,0,10,0,0],[0,1,10,0,0],[20,0,2,0,0],[10,0,0,1,0],[10,1,0,10,0],[10,0,2,10,0],[10,0,0,10,0],[10,1,0,1,0],[10,0,0,0,0],])\n"
      ],
      "metadata": {
        "colab": {
          "base_uri": "https://localhost:8080/"
        },
        "id": "47sgIPB2P3Gh",
        "outputId": "07786c5b-28f9-40cc-ce13-8ebbb837c8a8"
      },
      "execution_count": 3,
      "outputs": [
        {
          "output_type": "stream",
          "name": "stdout",
          "text": [
            "['x', 'edge_index', 'val_mask', 'y', 'train_mask', 'test_mask']\n"
          ]
        },
        {
          "output_type": "stream",
          "name": "stderr",
          "text": [
            "/usr/local/lib/python3.10/dist-packages/torch_geometric/data/in_memory_dataset.py:157: UserWarning: It is not recommended to directly access the internal storage format `data` of an 'InMemoryDataset'. If you are absolutely certain what you are doing, access the internal storage via `InMemoryDataset._data` instead to suppress this warning. Alternatively, you can access stacked individual attributes of every graph via `dataset.{attr_name}`.\n",
            "  warnings.warn(msg)\n"
          ]
        }
      ]
    },
    {
      "cell_type": "markdown",
      "source": [
        "2. Evaluation Metrics"
      ],
      "metadata": {
        "id": "RA4LxN4V0vtc"
      }
    },
    {
      "cell_type": "code",
      "source": [
        "import numpy as np\n",
        "from sklearn.metrics import accuracy_score\n",
        "\n",
        "def purity_score(y_true, y_pred):\n",
        "    y_voted_labels = np.zeros(y_true.shape)\n",
        "    labels = np.unique(y_true)\n",
        "    ordered_labels = np.arange(labels.shape[0])\n",
        "    for k in range(labels.shape[0]):\n",
        "        y_true[y_true==labels[k]] = ordered_labels[k]\n",
        "    labels = np.unique(y_true)\n",
        "    bins = np.concatenate((labels, [np.max(labels)+1]), axis=0)\n",
        "\n",
        "    for cluster in np.unique(y_pred):\n",
        "        hist, _ = np.histogram(y_true[y_pred==cluster], bins=bins)\n",
        "        winner = np.argmax(hist)\n",
        "        y_voted_labels[y_pred==cluster] = winner\n",
        "    return accuracy_score(y_true, y_voted_labels)\n",
        "\n"
      ],
      "metadata": {
        "id": "l8WG-NR-fXAF"
      },
      "execution_count": 4,
      "outputs": []
    },
    {
      "cell_type": "markdown",
      "source": [
        "diffrent mesurment option for clustering \n",
        "\n",
        "such as NMI , purity."
      ],
      "metadata": {
        "id": "vxn-fZY3f6S3"
      }
    },
    {
      "cell_type": "markdown",
      "source": [
        "3. ddcrp"
      ],
      "metadata": {
        "id": "xfzgJUgM05gU"
      }
    },
    {
      "cell_type": "code",
      "execution_count": 28,
      "metadata": {
        "id": "g5Y629RhNS79"
      },
      "outputs": [],
      "source": [
        "\n",
        "def dirichlet_likelihood(Xp, hyper):\n",
        "    if len(Xp.shape) == 2:\n",
        "        X =sum(Xp)\n",
        "    else:\n",
        "        X = Xp\n",
        "    idx = np.where(X!=0)\n",
        "    lh = gammaln(len(X)*hyper) + sum(gammaln(X[idx]+hyper))\\\n",
        "    -len(idx)*gammaln(hyper)  - gammaln(sum(X)+len(X) * hyper)\n",
        "    return lh\n",
        "\n",
        "\n",
        "def window_delay(a,size=1):\n",
        "    if abs(a) >= size and a >= 0:\n",
        "        return 1;\n",
        "    else:\n",
        "        return 0;\n",
        "\n",
        "\n",
        "def normalized_jaccard(i,j):\n",
        "    return np.count_nonzero(np.logical_and(i,j))/np.count_nonzero(np.logical_or(i,j))\n",
        "\n",
        "\n",
        "def linear_distance(i,j):\n",
        "    return i-j\n",
        "\n",
        "\n",
        "#get co-table for customer i = the customers linked to customer i\n",
        "def get_linked(i,link):\n",
        "    c = []\n",
        "    q = []\n",
        "    q.append(i)\n",
        "    while q:\n",
        "        cur = q[0]\n",
        "        c.append(cur)\n",
        "        for k in range(0,len(link)):\n",
        "            if (link[k] == cur) and (k not in c) and (k not in q):\n",
        "                q.append(k)\n",
        "        q = q[1:]\n",
        "    return c\n",
        "\n",
        "\n",
        "def ddcrp_infer(obs,lhood_fn,distance,delay,n_iter,alpha = 0.2):\n",
        "    global y\n",
        "    liklihoods = []\n",
        "    purity_scores = []\n",
        "    n = len(obs)\n",
        "    cluster = np.array([0]*n)\n",
        "    link = np.array([0]*n)\n",
        "    prior = np.random.random(n*n).reshape((n,n))\n",
        "    #lhood = np.random.random(n)\n",
        "    merged_lhood = np.random.random(n)\n",
        "    lhood = list(map(lambda x: lhood_fn(obs[np.where(cluster == x)]) , cluster))  #lhood of each cluster\n",
        "    obs_lhood = 0 #the likelihood of all obs\n",
        "\n",
        "    #prior of each customer\n",
        "    for i in range(0,n):\n",
        "        for j in range(0,n):\n",
        "            try:\n",
        "                if i==j:\n",
        "                    prior[i][j] = np.log(alpha)\n",
        "                else:\n",
        "                    seterr(divide='ignore')\n",
        "                    # prior[i][j] = np.log(delay(distance(obs[i],obs[j])))\n",
        "                    prior[i][j] = distance(obs[i],obs[j])\n",
        "                    seterr(divide='warn')\n",
        "                    prior[i][j][isneginf(prior[i][j])] = 0\n",
        "            except Exception as e:\n",
        "                # print(e)\n",
        "                pass\n",
        "\n",
        "    for t in range(0,n_iter):\n",
        "        obs_lhood = 0\n",
        "        for i in range(0,n):\n",
        "            #print (\"sample\"+str(i)+\"th:\")\n",
        "            #remove the ith's link\n",
        "            old_link = link[i]\n",
        "            old_cluster = cluster[old_link]\n",
        "            cluster[i] = i\n",
        "            link[i] = i\n",
        "            linked = get_linked(i,link)\n",
        "            # print(linked)\n",
        "            cluster[linked] = i\n",
        "\n",
        "            if old_cluster not in linked :\n",
        "                idx = np.where(cluster == old_cluster)\n",
        "                lhood[old_cluster] = lhood_fn(obs[idx])\n",
        "                lhood[i] = lhood_fn(obs[linked])\n",
        "\n",
        "\n",
        "            #calculate the likelihood of the merged cluster\n",
        "            for j in np.unique(cluster):\n",
        "\n",
        "                if j == cluster[i] :\n",
        "                    merged_lhood[j] = 2*lhood_fn(obs[linked])\n",
        "                else:\n",
        "                    merged_lhood[j] = lhood_fn(np.concatenate((obs[linked] , obs[np.where(cluster == j)])))\n",
        "\n",
        "            log_prob = list(map(lambda x: prior[i][x] + merged_lhood[cluster[x]] - lhood[cluster[x]]-lhood[cluster[i]], np.arange(n)))\n",
        "            prob = np.exp(log_prob - logsumexp(log_prob))\n",
        "            #print(prob, prob.sum())\n",
        "\n",
        "\n",
        "            #sample z_i\n",
        "            link[i] = np.random.choice(np.arange(n),1,p=prob)\n",
        "\n",
        "            #update the likelihood if the link sample merge two cluster\n",
        "            new_cluster = cluster[link[i]]\n",
        "            if new_cluster !=i:\n",
        "                cluster[linked] = new_cluster\n",
        "                lhood[new_cluster] = merged_lhood[new_cluster]\n",
        "\n",
        "            #cal the likelihood of all obs\n",
        "            for u in np.unique(cluster):\n",
        "                obs_lhood = obs_lhood + lhood[u]\n",
        "\n",
        "        print(\"---------------------------------\")\n",
        "        print(\"iter \"+str(t))\n",
        "        c = np.array(cluster)\n",
        "        print(\"number of cluster = \",np.unique(c).shape[0])\n",
        "        print(cluster)\n",
        "        p = purity_score(y, c)\n",
        "        print(\"purity score = \",p)\n",
        "        purity_scores.append(p)\n",
        "        # print(\"link\")\n",
        "        # print(link)\n",
        "        liklihoods.append(obs_lhood)\n",
        "\n",
        "    return cluster,link,liklihoods,purity_scores"
      ]
    },
    {
      "cell_type": "code",
      "source": [
        "threshold_similarity = 0.02 #20\n",
        "hyper = 0.001 #0.2\n",
        "n_iter =50 #200\n",
        "alpha = 0.01#0.2\n",
        "\n",
        "delay = lambda x:window_delay(x,threshold_similarity)\n",
        "lhood_fn = lambda x:dirichlet_likelihood(x,hyper)\n",
        "distance = normalized_jaccard\n",
        "cluster,link,lhood,scores = ddcrp_infer(x,lhood_fn,distance,delay,n_iter,alpha)\n"
      ],
      "metadata": {
        "colab": {
          "base_uri": "https://localhost:8080/"
        },
        "id": "Nl1QSMrNXPVB",
        "outputId": "3cfaa715-e907-4a28-9de7-9173d7d1c93c"
      },
      "execution_count": null,
      "outputs": [
        {
          "output_type": "stream",
          "name": "stdout",
          "text": [
            "---------------------------------\n",
            "iter 0\n",
            "number of cluster =  83\n",
            "[91  1  2  3  4  5  6  7  8  5 10 11  5 13 14 15 16 17  7 19 20 21 22 19\n",
            " 24 25 26 27 28  2 30 31 32 33 34 35 36 37 38 39 40 41 42 43 44 45  5 47\n",
            " 48 49 50 51  4 53 44 55 56 57 22 59 60 61 16 63 64 65 42 67 68 69 70 71\n",
            " 59 73 74 75 76 77 78 79 91 81 34 91 84 85 86 87 88 89 90 91 92 56 94 95\n",
            " 96 97 98 99]\n",
            "purity score =  0.88\n",
            "---------------------------------\n",
            "iter 1\n",
            "number of cluster =  70\n",
            "[96  1 69  3 97 43  6 28  8 49 10 11 15 13 14 15 61 17 28 80 20 21 10 80\n",
            " 24 25 26 27 28 69 30 31 32 33 17 35 36 37 38 39 40 41 50 43 73 45 43 47\n",
            " 48 49 50 51 97 53 73 55 80 57 10  6 60 61 61 63 64 65 50 67 68 69 70 71\n",
            "  6 73 74 75 76 77 78 79 80 81 17 47 47 85 86 87 88 89 90 47 92 80 94 95\n",
            " 96 97 98 99]\n",
            "purity score =  0.77\n",
            "---------------------------------\n",
            "iter 2\n",
            "number of cluster =  65\n",
            "[ 3  1  2  3 98 33 55 45  8 44 74 11 85 13 14 15 16 94 67 56 20 21 74 70\n",
            " 24 25 26 44 28  2 30 31 32 33 94 35 36 37 38 39 40 41 42 28 44 45 28 91\n",
            " 48 44 41 51 63 53 87 55 56 56 11 55 60 88 88 63 64 65 41 67 68 69 70 71\n",
            " 72 72 74  3 76 77 78 79 91 81 35 83 84 85 86 87 88 89 90 91 92 91 94 95\n",
            "  3 97 98 99]\n",
            "purity score =  0.74\n",
            "---------------------------------\n",
            "iter 3\n",
            "number of cluster =  62\n",
            "[20  1 21 45 97 37  6  6  8 32 10 50 21 13 14 15 16 10 27 69 20 21 22 13\n",
            " 24 25 26 27 43 21 30 27 32 33 34 32 36 37 38 39 40 25 42 43 16 45 43 91\n",
            " 48 16 50 51 22 53 80 56 56 57 50 56 60 61 61 63 64 65 25 27 68 69 70 71\n",
            " 70 70 91 45 76 80 78 79 80 81 32 83 84 85 86 80 88 89 90 91 92 91 94 95\n",
            " 96 97 98 99]\n",
            "purity score =  0.69\n",
            "---------------------------------\n",
            "iter 4\n",
            "number of cluster =  57\n",
            "[85  1  2  3  2 94 98 98  8 68 17 11 36 86 14 15  3 17 17 69 20 64 81 86\n",
            " 24 20 26 55 28 64 30 31 28 33 34 28 36 37 38 39 40 20 42 34  3 75 34 47\n",
            " 48 49 42 51 81 53 99 55 90 57 42 90 60 47 47 63 64 65 30 55 68 69 72 71\n",
            " 72 72 74 75 75 77 78 79 71 81 48 83 84 85 86 71 88 89 90 77 92 77 94 95\n",
            " 96 97 98 99]\n",
            "purity score =  0.66\n",
            "---------------------------------\n",
            "iter 5\n",
            "number of cluster =  48\n",
            "[64  1 97 44 97 38 74  7 64  7 39 11 27 13 14 15 16 39 39 69 31 33 22 68\n",
            " 27 25 26 27 13 14 62 31 13 33 79 35 27 37 38 39 68 31 22 79 44 25 44 83\n",
            " 78 49 22 51 70 53  1 16 56 57 92 56 70 83 62 63 64 65 62 16 68 69 70 75\n",
            "  7  7 74 75 76 87 78 79 75 70 78 83 84 64 68 87 88 89 90 87 92 15 94 95\n",
            " 96 97 98 99]\n",
            "purity score =  0.59\n",
            "---------------------------------\n",
            "iter 6\n",
            "number of cluster =  50\n",
            "[ 0 30  0 88  4  4 74 72  8 98 10 11 76 62 94 48 39 17 10 69 20 17  8 77\n",
            " 24 45 26 20 62 94 30 34 62 33 34 35 20 37 38 39 40 34 42 33 88 45 88 51\n",
            " 48 49  8 51 77 53 30 39 24 57 42 24 60 51 62 63 95 65 66 66 98 69 73 71\n",
            " 72 73 74 80 76 77 99 79 80 73 99 83 84 95 98 84 88 89 90 84 92 48 94 95\n",
            " 96 97 98 99]\n",
            "purity score =  0.63\n",
            "---------------------------------\n",
            "iter 7\n",
            "number of cluster =  46\n",
            "[ 2  1  2  2 97 97 74 70 70 15 11 11  1 13 14 15 16 15 11 69 79 15 22 38\n",
            " 50 45 26 27 62 11 47 31 11 22 83  1 79 37 38 55 40 83 56 22 44 45 56 47\n",
            " 87 49 50 44 77 53 47 55 56 57 56 50 60 44 62 62 13 65 16 16 31 69 70 71\n",
            " 70 40 74 80  1 77 77 79 80 40 65 83 85 85 86 87 88 89 90 85 92 87 11 95\n",
            " 96 97 98 99]\n",
            "purity score =  0.63\n",
            "---------------------------------\n",
            "iter 8\n",
            "number of cluster =  50\n",
            "[98 88  3  3 99  5  5  8  8  8 32 94 57 64 14 17 62 17  3 69 20 17 41 20\n",
            " 24 45 26 27 86 80 30 68 32 32 27 88 71 37 38 55 74 41 42 41 61 45 14 20\n",
            " 48 49 51 51 38 53 20 55 42 57 42 51 60 61 62 63 64 67 62 67 68 69 72 71\n",
            " 72 73 74 80 76 73 73 79 80 74 67 83 84 83 86 42 88 89 90 83 92 42 94 95\n",
            " 96 97 98 99]\n",
            "purity score =  0.65\n",
            "---------------------------------\n",
            "iter 9\n",
            "number of cluster =  45\n",
            "[48 60  2 36 91  6  6  8  8  6  2 94 84 64 79 15 16 37 36 69 54 37 22 16\n",
            " 24 45 26 34 22 96 30 68 26 26 34 60 36 37 52 55 40 53 52 53 50 45 79 47\n",
            " 48 49 50 47 52 53 54 55 87 57 52 47 60 50 36 63 64 65 36 48 68 69 72 71\n",
            " 72 63 76 80 76 63 78 79 80 76 48 40 84 40 86 87 87 89 90 91 92 91 94 95\n",
            " 96 91 48 91]\n",
            "purity score =  0.58\n",
            "---------------------------------\n",
            "iter 10\n",
            "number of cluster =  45\n",
            "[37 60 10 62  4  4  4  8  8  4 10 94 80 62 14 15 15 86 15 69 42 42 28 15\n",
            " 24 45 78 34 28 24 30 68 78 33 34 35 66 37 35 55 85 33 42 43 44 45 43 51\n",
            " 97 49 60 51 42 53 42 55 44 57 42 51 60 60 62 53 62 65 66 37 68 69 72 71\n",
            " 72 53 74 74 43 53 78 79 80 43 10 83 84 85 86 79 79 89 90 80 92 80 94 95\n",
            " 96 97 97 99]\n",
            "purity score =  0.57\n",
            "---------------------------------\n",
            "iter 11\n",
            "number of cluster =  48\n",
            "[ 0  0 61 99 83 83  6  8  8 71 61 94  6 13 14 13 13 86 56 69 96 96 65 37\n",
            " 84 45 26 34 65 84 30 68 78 41 34 90 66 37 90 55 85 41 50 71 56 45 71 47\n",
            " 48 49 50 47 50 50 48 55 56 57 50 47 60 61 62 63 64 65 66 67 68 69 70 71\n",
            " 62 73 75 75 76 77 78 67 91 81 61 83 84 85 86 67 88 89 90 91 91 48 94 95\n",
            " 96 73 73 99]\n",
            "purity score =  0.59\n",
            "---------------------------------\n",
            "iter 12\n",
            "number of cluster =  51\n",
            "[ 1  1  1 70 52 52 10  8  8 57 10 94 10 95 14 95 16 86 26 69 20 77 64 14\n",
            " 24 45 26 34 28 28 30 31 78 41 34 35 66 37 35 55 85 41 42 43 56 45 56 43\n",
            " 93 49 52 43 52 53 20 55 56 57 37 59 60 42 52 63 64 65 66 28 68 69 70 71\n",
            " 68 97 75 75 76 77 78 28 59 81 42 52 84 85 86 28 88 89 90 31 31 93 94 95\n",
            " 96 97 97 99]\n",
            "purity score =  0.61\n",
            "---------------------------------\n",
            "iter 13\n",
            "number of cluster =  52\n",
            "[16  2  2 70  4  5  6  8  8  8  5 94  5 13  4 95 16 86 95 69 73  6 64  4\n",
            " 24 45 26 34 96 96 30 47 78 41 34 71 66 43 71 55 85 41 61 43 56 45 99 47\n",
            " 73 49 83 52 52 53 73 55 56 57 43 80 60 61 62 63 64 65 66 67 62 69 70 71\n",
            " 62 73 75 75 76 77 78 79 80 81 61 83 83 85 86 87 88 89 90 47 92 73 94 95\n",
            " 96 67 67 99]\n",
            "purity score =  0.6\n"
          ]
        }
      ]
    },
    {
      "cell_type": "markdown",
      "source": [
        "4. final Result "
      ],
      "metadata": {
        "id": "bShLePkW08se"
      }
    },
    {
      "cell_type": "code",
      "source": [
        "import matplotlib.pyplot as plt\n",
        "plt.plot(scores)\n",
        "plt.show()"
      ],
      "metadata": {
        "id": "ooR69tQr2POV"
      },
      "execution_count": null,
      "outputs": []
    },
    {
      "cell_type": "code",
      "source": [
        "plt.plot(lhood)\n",
        "plt.show()"
      ],
      "metadata": {
        "colab": {
          "base_uri": "https://localhost:8080/",
          "height": 430
        },
        "id": "cKtgXqoHii5J",
        "outputId": "01ad3733-27d7-45e3-b984-3814faf08770"
      },
      "execution_count": 12,
      "outputs": [
        {
          "output_type": "display_data",
          "data": {
            "text/plain": [
              "<Figure size 640x480 with 1 Axes>"
            ],
            "image/png": "[encoded data removed]"
          },
          "metadata": {}
        }
      ]
    },
    {
      "cell_type": "code",
      "source": [
        "from sklearn.metrics import normalized_mutual_info_score\n",
        "print(normalized_mutual_info_score(y,cluster))"
      ],
      "metadata": {
        "colab": {
          "base_uri": "https://localhost:8080/"
        },
        "id": "vyenjpwPg_wo",
        "outputId": "e6027285-a9a4-4f3e-95d3-077c05b0de7f"
      },
      "execution_count": 13,
      "outputs": [
        {
          "output_type": "stream",
          "name": "stdout",
          "text": [
            "0.36109558182634316\n"
          ]
        }
      ]
    }
  ]
}