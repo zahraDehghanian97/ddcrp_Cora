{
  "nbformat": 4,
  "nbformat_minor": 0,
  "metadata": {
    "colab": {
      "provenance": [],
      "authorship_tag": "ABX9TyPYfonVj58hqT7LXKe1NGou",
      "include_colab_link": true
    },
    "kernelspec": {
      "name": "python3",
      "display_name": "Python 3"
    },
    "language_info": {
      "name": "python"
    }
  },
  "cells": [
    {
      "cell_type": "markdown",
      "metadata": {
        "id": "view-in-github",
        "colab_type": "text"
      },
      "source": [
        "<a href=\"https://colab.research.google.com/github/zahraDehghanian97/ddcrp_Cora/blob/master/ddcrp.ipynb\" target=\"_parent\"><img src=\"https://colab.research.google.com/assets/colab-badge.svg\" alt=\"Open In Colab\"/></a>"
      ]
    },
    {
      "cell_type": "code",
      "source": [
        "!pip install torch_geometric"
      ],
      "metadata": {
        "colab": {
          "base_uri": "https://localhost:8080/"
        },
        "id": "8ots1QYIPPCM",
        "outputId": "b0bb0b0e-7128-44a6-966d-c229b2c6c537"
      },
      "execution_count": 2,
      "outputs": [
        {
          "output_type": "stream",
          "name": "stdout",
          "text": [
            "Looking in indexes: https://pypi.org/simple, https://us-python.pkg.dev/colab-wheels/public/simple/\n",
            "Collecting torch_geometric\n",
            "  Downloading torch_geometric-2.3.1.tar.gz (661 kB)\n",
            "\u001b[2K     \u001b[90m━━━━━━━━━━━━━━━━━━━━━━━━━━━━━━━━━━━━━━\u001b[0m \u001b[32m661.6/661.6 kB\u001b[0m \u001b[31m10.4 MB/s\u001b[0m eta \u001b[36m0:00:00\u001b[0m\n",
            "\u001b[?25h  Installing build dependencies ... \u001b[?25l\u001b[?25hdone\n",
            "  Getting requirements to build wheel ... \u001b[?25l\u001b[?25hdone\n",
            "  Preparing metadata (pyproject.toml) ... \u001b[?25l\u001b[?25hdone\n",
            "Requirement already satisfied: requests in /usr/local/lib/python3.10/dist-packages (from torch_geometric) (2.27.1)\n",
            "Requirement already satisfied: psutil>=5.8.0 in /usr/local/lib/python3.10/dist-packages (from torch_geometric) (5.9.5)\n",
            "Requirement already satisfied: tqdm in /usr/local/lib/python3.10/dist-packages (from torch_geometric) (4.65.0)\n",
            "Requirement already satisfied: scikit-learn in /usr/local/lib/python3.10/dist-packages (from torch_geometric) (1.2.2)\n",
            "Requirement already satisfied: numpy in /usr/local/lib/python3.10/dist-packages (from torch_geometric) (1.22.4)\n",
            "Requirement already satisfied: pyparsing in /usr/local/lib/python3.10/dist-packages (from torch_geometric) (3.0.9)\n",
            "Requirement already satisfied: jinja2 in /usr/local/lib/python3.10/dist-packages (from torch_geometric) (3.1.2)\n",
            "Requirement already satisfied: scipy in /usr/local/lib/python3.10/dist-packages (from torch_geometric) (1.10.1)\n",
            "Requirement already satisfied: MarkupSafe>=2.0 in /usr/local/lib/python3.10/dist-packages (from jinja2->torch_geometric) (2.1.2)\n",
            "Requirement already satisfied: urllib3<1.27,>=1.21.1 in /usr/local/lib/python3.10/dist-packages (from requests->torch_geometric) (1.26.15)\n",
            "Requirement already satisfied: charset-normalizer~=2.0.0 in /usr/local/lib/python3.10/dist-packages (from requests->torch_geometric) (2.0.12)\n",
            "Requirement already satisfied: certifi>=2017.4.17 in /usr/local/lib/python3.10/dist-packages (from requests->torch_geometric) (2022.12.7)\n",
            "Requirement already satisfied: idna<4,>=2.5 in /usr/local/lib/python3.10/dist-packages (from requests->torch_geometric) (3.4)\n",
            "Requirement already satisfied: joblib>=1.1.1 in /usr/local/lib/python3.10/dist-packages (from scikit-learn->torch_geometric) (1.2.0)\n",
            "Requirement already satisfied: threadpoolctl>=2.0.0 in /usr/local/lib/python3.10/dist-packages (from scikit-learn->torch_geometric) (3.1.0)\n",
            "Building wheels for collected packages: torch_geometric\n",
            "  Building wheel for torch_geometric (pyproject.toml) ... \u001b[?25l\u001b[?25hdone\n",
            "  Created wheel for torch_geometric: filename=torch_geometric-2.3.1-py3-none-any.whl size=910476 sha256=c18031fd88caf958d32cb7fc7d10c773efcc30e4722c812c3d7d45622d7a2fdc\n",
            "  Stored in directory: /root/.cache/pip/wheels/ac/dc/30/e2874821ff308ee67dcd7a66dbde912411e19e35a1addda028\n",
            "Successfully built torch_geometric\n",
            "Installing collected packages: torch_geometric\n",
            "Successfully installed torch_geometric-2.3.1\n"
          ]
        }
      ]
    },
    {
      "cell_type": "markdown",
      "source": [
        "1. Get Dataset"
      ],
      "metadata": {
        "id": "rlvZrJ2Y0p-h"
      }
    },
    {
      "cell_type": "code",
      "source": [
        "from torch_geometric.datasets import Planetoid\n",
        "import numpy as np\n",
        "from numpy import seterr, isneginf, array\n",
        "from scipy.special import gammaln\n",
        "from scipy.special import logsumexp\n",
        "\n",
        "\n",
        "dataset = Planetoid(\"/content/sample_data/Cora\" , name = 'Cora')"
      ],
      "metadata": {
        "colab": {
          "base_uri": "https://localhost:8080/"
        },
        "id": "nhSEBP4-Pcx3",
        "outputId": "762a31cb-e1f9-4382-8808-929fbd35dd26"
      },
      "execution_count": 3,
      "outputs": [
        {
          "output_type": "stream",
          "name": "stderr",
          "text": [
            "Downloading https://github.com/kimiyoung/planetoid/raw/master/data/ind.cora.x\n",
            "Downloading https://github.com/kimiyoung/planetoid/raw/master/data/ind.cora.tx\n",
            "Downloading https://github.com/kimiyoung/planetoid/raw/master/data/ind.cora.allx\n",
            "Downloading https://github.com/kimiyoung/planetoid/raw/master/data/ind.cora.y\n",
            "Downloading https://github.com/kimiyoung/planetoid/raw/master/data/ind.cora.ty\n",
            "Downloading https://github.com/kimiyoung/planetoid/raw/master/data/ind.cora.ally\n",
            "Downloading https://github.com/kimiyoung/planetoid/raw/master/data/ind.cora.graph\n",
            "Downloading https://github.com/kimiyoung/planetoid/raw/master/data/ind.cora.test.index\n",
            "Processing...\n",
            "Done!\n"
          ]
        }
      ]
    },
    {
      "cell_type": "code",
      "source": [
        "print(dataset.data.keys)\n",
        "x = dataset.data.x.detach().cpu().numpy()[0:100]\n",
        "y = dataset.data.y.detach().cpu().numpy()[0:100]\n",
        "\n",
        "# x = np.array([[10,0,0,0,0],[10,0,0,0,0],[5,0,0,0,0],[11,0,0,0,1],[0,10,0,0,1],[0,10,0,0,0],[0,0,10,0,0],[0,1,10,0,0],[20,0,2,0,0],[10,0,0,1,0],[10,1,0,10,0],[10,0,2,10,0],[10,0,0,10,0],[10,1,0,1,0],[10,0,0,0,0],])\n"
      ],
      "metadata": {
        "colab": {
          "base_uri": "https://localhost:8080/"
        },
        "id": "47sgIPB2P3Gh",
        "outputId": "851c2c6a-6383-4e0e-ac38-80a45c3ea8da"
      },
      "execution_count": 4,
      "outputs": [
        {
          "output_type": "stream",
          "name": "stdout",
          "text": [
            "['test_mask', 'y', 'train_mask', 'val_mask', 'edge_index', 'x']\n"
          ]
        },
        {
          "output_type": "stream",
          "name": "stderr",
          "text": [
            "/usr/local/lib/python3.10/dist-packages/torch_geometric/data/in_memory_dataset.py:157: UserWarning: It is not recommended to directly access the internal storage format `data` of an 'InMemoryDataset'. If you are absolutely certain what you are doing, access the internal storage via `InMemoryDataset._data` instead to suppress this warning. Alternatively, you can access stacked individual attributes of every graph via `dataset.{attr_name}`.\n",
            "  warnings.warn(msg)\n"
          ]
        }
      ]
    },
    {
      "cell_type": "markdown",
      "source": [
        "2. Evaluation Metrics"
      ],
      "metadata": {
        "id": "RA4LxN4V0vtc"
      }
    },
    {
      "cell_type": "code",
      "source": [
        "import numpy as np\n",
        "from sklearn.metrics import accuracy_score\n",
        "\n",
        "def purity_score(y_true, y_pred):\n",
        "    y_voted_labels = np.zeros(y_true.shape)\n",
        "    labels = np.unique(y_true)\n",
        "    ordered_labels = np.arange(labels.shape[0])\n",
        "    for k in range(labels.shape[0]):\n",
        "        y_true[y_true==labels[k]] = ordered_labels[k]\n",
        "    labels = np.unique(y_true)\n",
        "    bins = np.concatenate((labels, [np.max(labels)+1]), axis=0)\n",
        "\n",
        "    for cluster in np.unique(y_pred):\n",
        "        hist, _ = np.histogram(y_true[y_pred==cluster], bins=bins)\n",
        "        winner = np.argmax(hist)\n",
        "        y_voted_labels[y_pred==cluster] = winner\n",
        "    return accuracy_score(y_true, y_voted_labels)\n",
        "\n"
      ],
      "metadata": {
        "id": "l8WG-NR-fXAF"
      },
      "execution_count": 5,
      "outputs": []
    },
    {
      "cell_type": "markdown",
      "source": [
        "diffrent mesurment option for clustering \n",
        "\n",
        "such as NMI , purity."
      ],
      "metadata": {
        "id": "vxn-fZY3f6S3"
      }
    },
    {
      "cell_type": "markdown",
      "source": [
        "3. ddcrp"
      ],
      "metadata": {
        "id": "xfzgJUgM05gU"
      }
    },
    {
      "cell_type": "code",
      "execution_count": 14,
      "metadata": {
        "id": "g5Y629RhNS79"
      },
      "outputs": [],
      "source": [
        "from sklearn.metrics import normalized_mutual_info_score\n",
        "\n",
        "def dirichlet_likelihood(Xp, hyper):\n",
        "    if len(Xp.shape) == 2:\n",
        "        X =sum(Xp)\n",
        "    else:\n",
        "        X = Xp\n",
        "    idx = np.where(X!=0)\n",
        "    lh = gammaln(len(X)*hyper) + sum(gammaln(X[idx]+hyper))\\\n",
        "    -len(idx)*gammaln(hyper)  - gammaln(sum(X)+len(X) * hyper)\n",
        "    return lh\n",
        "\n",
        "\n",
        "def window_delay(a,size=1):\n",
        "    if abs(a) >= size and a >= 0:\n",
        "        return 1;\n",
        "    else:\n",
        "        return 0;\n",
        "\n",
        "\n",
        "def normalized_jaccard(i,j):\n",
        "    return np.count_nonzero(np.logical_and(i,j))/np.count_nonzero(np.logical_or(i,j))\n",
        "\n",
        "\n",
        "def linear_distance(i,j):\n",
        "    return i-j\n",
        "\n",
        "\n",
        "#get co-table for customer i = the customers linked to customer i\n",
        "def get_linked(i,link):\n",
        "    c = []\n",
        "    q = []\n",
        "    q.append(i)\n",
        "    while q:\n",
        "        cur = q[0]\n",
        "        c.append(cur)\n",
        "        for k in range(0,len(link)):\n",
        "            if (link[k] == cur) and (k not in c) and (k not in q):\n",
        "                q.append(k)\n",
        "        q = q[1:]\n",
        "    return c\n",
        "\n",
        "\n",
        "def ddcrp_infer(obs,lhood_fn,distance,f,n_iter,alpha = 0.2):\n",
        "    global y\n",
        "    liklihoods = []\n",
        "    purity_scores = []\n",
        "    n = len(obs)\n",
        "    cluster = np.array([0]*n)\n",
        "    link = np.array([0]*n)\n",
        "    prior = np.random.random(n*n).reshape((n,n))\n",
        "    merged_lhood = np.random.random(n)\n",
        "    lhood = list(map(lambda x: lhood_fn(obs[np.where(cluster == x)]) , cluster))  #lhood of each cluster\n",
        "    obs_lhood = 0 #the likelihood of all obs\n",
        "\n",
        "    #prior of each customer\n",
        "    for i in range(0,n):\n",
        "        for j in range(0,n):\n",
        "            try:\n",
        "                if i==j:\n",
        "                    # prior[i][j] = np.log(alpha)\n",
        "                    prior[i][j] = alpha\n",
        "                else:\n",
        "                    seterr(divide='ignore')\n",
        "                    # prior[i][j] = np.log(f(distance(obs[i],obs[j])))\n",
        "                    prior[i][j] = f(distance(obs[i],obs[j]))\n",
        "                    seterr(divide='warn')\n",
        "                    prior[i][j][isneginf(prior[i][j])] = 0\n",
        "            except Exception as e:\n",
        "                # print(e)\n",
        "                pass\n",
        "\n",
        "    for t in range(0,n_iter):\n",
        "        obs_lhood = 0\n",
        "        for i in range(0,n):\n",
        "            #remove the ith's link\n",
        "            old_link = link[i]\n",
        "            old_cluster = cluster[old_link]\n",
        "            cluster[i] = i\n",
        "            link[i] = i\n",
        "            linked = get_linked(i,link)\n",
        "            cluster[linked] = i\n",
        "\n",
        "            if old_cluster not in linked :\n",
        "                idx = np.where(cluster == old_cluster)\n",
        "                lhood[old_cluster] = lhood_fn(obs[idx])\n",
        "                lhood[i] = lhood_fn(obs[linked])\n",
        "\n",
        "\n",
        "            #calculate the likelihood of the merged cluster\n",
        "            for j in np.unique(cluster):\n",
        "\n",
        "                if j == cluster[i] :\n",
        "                    merged_lhood[j] = 2*lhood_fn(obs[linked])\n",
        "                else:\n",
        "                    merged_lhood[j] = lhood_fn(np.concatenate((obs[linked] , obs[np.where(cluster == j)])))\n",
        "\n",
        "            log_prob = list(map(lambda x: prior[i][x] + merged_lhood[cluster[x]] - lhood[cluster[x]]-lhood[cluster[i]], np.arange(n)))\n",
        "            prob = np.exp(log_prob - logsumexp(log_prob))\n",
        "            # print(prob, prob.sum())\n",
        "\n",
        "\n",
        "            #sample z_i\n",
        "            link[i] = np.random.choice(np.arange(n),1,p=prob)\n",
        "\n",
        "            #update the likelihood if the link sample merge two cluster\n",
        "            new_cluster = cluster[link[i]]\n",
        "            if new_cluster !=i:\n",
        "                cluster[linked] = new_cluster\n",
        "                lhood[new_cluster] = merged_lhood[new_cluster]\n",
        "\n",
        "            #cal the likelihood of all obs\n",
        "            for u in np.unique(cluster):\n",
        "                obs_lhood = obs_lhood + lhood[u]\n",
        "\n",
        "        print(\"---------------------------------\")\n",
        "        print(\"iter \"+str(t))\n",
        "        c = np.array(cluster)\n",
        "        num = np.unique(c).shape[0]\n",
        "        print(\"number of cluster = \", num)\n",
        "        print(cluster)\n",
        "        # p = purity_score(y, c)\n",
        "        p = normalized_mutual_info_score(y,cluster)\n",
        "        p = p*100/num\n",
        "        print(\"NMI/#clusters = \",round(p,3))\n",
        "        purity_scores.append(p)\n",
        "        # print(\"link\")\n",
        "        # print(link)\n",
        "        liklihoods.append(obs_lhood)\n",
        "\n",
        "    return cluster,link,liklihoods,purity_scores"
      ]
    },
    {
      "cell_type": "code",
      "source": [
        "threshold_similarity = 0.02 #20\n",
        "hyper = 0.001 #0.2\n",
        "n_iter =20 #200\n",
        "alpha = 0.001#0.2\n",
        "\n",
        "f = lambda x:window_delay(x,threshold_similarity)\n",
        "lhood_fn = lambda x:dirichlet_likelihood(x,hyper)\n",
        "distance = normalized_jaccard\n",
        "cluster,link,lhood,scores = ddcrp_infer(x,lhood_fn,distance,f,n_iter,alpha)\n"
      ],
      "metadata": {
        "colab": {
          "base_uri": "https://localhost:8080/"
        },
        "id": "Nl1QSMrNXPVB",
        "outputId": "18ac2e99-cf11-4ea1-df12-a5c8f5c6863f"
      },
      "execution_count": 15,
      "outputs": [
        {
          "output_type": "stream",
          "name": "stdout",
          "text": [
            "---------------------------------\n",
            "iter 0\n",
            "number of cluster =  87\n",
            "[45  1  2  3  4  5  6  7  8  7 10 11  3 13 14 15 16 17 18 19 20 18 22 17\n",
            " 24 25 26 27 28  2 45 31 32 33 34 35 36 37 38 39 40 41 42 43 44 45  5 47\n",
            " 48 49 50 51 40 53  5 55 56 57 47 59 60 61 62 63 64 65 66 67 68 69 70 71\n",
            " 66 73 74 75 76 77 78 79 80 81 82 83 84 85 86 87 88 89 90 91 92 82 94 95\n",
            " 96 97 98 99]\n",
            "NMI/#clusters =  0.631\n",
            "---------------------------------\n",
            "iter 1\n",
            "number of cluster =  77\n",
            "[28 28 66 72  4 10  6  7  8 11 10 11 72 13 14 15 16 62  7 19 20  7 22 62\n",
            " 24 25 26 27 28 66 28 28 32 33 34 35 36 37 38 39 97 41 42 43 44 28 61 73\n",
            " 48 49 50 51 97 53 10 55 56 57 73 59 60 61 62 63 64 65 66 67 68 69 70 71\n",
            " 72 73 74 75 76 77 78 79 80 81 72 83 84 85 86 87 88 89 90 91 92 72 94 95\n",
            " 96 97 98 99]\n",
            "NMI/#clusters =  0.663\n",
            "---------------------------------\n",
            "iter 2\n",
            "number of cluster =  84\n",
            "[ 5  1  2  3  4  5  6  7  8 82 52 11 82 13 14 15 16 17 67 19 20 21 22 64\n",
            " 24 25 26 27 45 82 30  5 32 33 34 35 36 37 38 39 40 41 42 43 44 45 45 47\n",
            " 48 49 50 51 52 53 52 55 56 57 62 59 60 61 62 63 64 65 69 67 68 69 70 71\n",
            "  5 73 74 75 76 77 78 79 80 81 82 82 84 85 86 87 88 89 90 91 92  5 94 95\n",
            " 96 97 98 99]\n",
            "NMI/#clusters =  0.644\n",
            "---------------------------------\n",
            "iter 3\n",
            "number of cluster =  86\n",
            "[72  1  2  3  4  5  6  7  8 91 10 11 40 13 14 15 16 17 97 19 20 21 22 17\n",
            " 24 25 26 27 72 83 30 31 32 33 34 35 36 37 38 39 40 41 42 43 44 45 72 47\n",
            " 48 49 50 51 40 53 40 55 56 57 47 59 60 61 62 63 64 65  7 67 68 69 70 71\n",
            " 72 73 74 75 76 77 78 79 80 81 72 83 84 85 86 87 88 89 90 91 92 61 94 95\n",
            " 96 97 98 99]\n",
            "NMI/#clusters =  0.616\n",
            "---------------------------------\n",
            "iter 4\n",
            "number of cluster =  82\n",
            "[62  1  2  3  4  5  6  7  8 46 10 11 16 13 14 15 16  5 82 19 20 21 22  5\n",
            " 24 25 26 27 28 29 30 31 32 33 34 35 36 37 38 39 72 41 42 43 44 45 46 43\n",
            " 48 49 82 51 72 53 41 55 46 57 43 59 60 66 62 63 64 65 66 67 68 69 70 71\n",
            " 72 73 74 75 76 77 78 79 80 81 82 29 84 85 86 87 88 89 90 46 92 66 94 95\n",
            " 96 82 98 99]\n",
            "NMI/#clusters =  0.625\n",
            "---------------------------------\n",
            "iter 5\n",
            "number of cluster =  84\n",
            "[93 93  2  3  4 18  6  7  8 69 10 11 10 13 14 15 16 17 18 19 20 21 22 18\n",
            " 24 25 26 27 28 83 30 31 32 33 34 35 36 37 38 39 40 72 42 47 44 45 91 47\n",
            " 48 49 50 51 25 53 72 55 56 57 47 59 60 61 93 63 64 65 66 67 68 69 70 71\n",
            " 72 73 74 75 76 77 78 79 80 81 66 83 84 85 86 87 88 89 90 91 92 93 94 95\n",
            " 96 66 98 99]\n",
            "NMI/#clusters =  0.617\n",
            "---------------------------------\n",
            "iter 6\n",
            "number of cluster =  88\n",
            "[ 0  1  2  3  4  5  6  7  8  0 10 11 36 13 14 15 16 17  4 19 20 21 22  4\n",
            " 24 25 26 27 28 85 30 31 32 33 34 35 36 37 38 39 40 41 42 43 44 45 91 47\n",
            " 48 49 50 51 79 53 61 55 56 57 85 59 60 61 93 63 64 65 97 67 68 69 70 71\n",
            " 72 73 74 75 76 77 78 79 80 81  6 83 84 85 86 87 88 89 90 91 92 93 94 95\n",
            " 96 97 98 99]\n",
            "NMI/#clusters =  0.61\n",
            "---------------------------------\n",
            "iter 7\n",
            "number of cluster =  85\n",
            "[72  1  2  3 80  5 50  7  8 72 10 11  5 13 14 15 16 17 80 19 20 21 22 59\n",
            " 24 25 26 27 28 75 30 31 32 33 34 35 36 37 38 39 40 41 42 43 44 45 37 47\n",
            " 48 49 50 51  2 53 17 55 56 57 58 59 60 61 62 63 64 65  5 67 68 69 70 71\n",
            " 72 73 93 75 76 77 78 79 80 81 50 83 84 85 86 87 88 89 90 58 92 93 94 95\n",
            " 96 97 98 99]\n",
            "NMI/#clusters =  0.628\n",
            "---------------------------------\n",
            "iter 8\n",
            "number of cluster =  83\n",
            "[62  1 46  3 43 56  6 43  8 68 10 11 56 13 14 15 16 79 43 19 20 21 22 97\n",
            " 24 25 26 27 28 28 30 31 32 33 34 35 36 37 38 39 40 41 42 43 44 45 46 47\n",
            " 48 49 50 51 46 53 79 55 56 57 82 59 60 61 62 63 64 65 66 67 68 69 70 71\n",
            " 66 73 93 75 76 77 78 79 80 81 82 83 84 85 86 87 88 89 90 82 92 93 94 95\n",
            " 96 97 98 99]\n",
            "NMI/#clusters =  0.631\n",
            "---------------------------------\n",
            "iter 9\n",
            "number of cluster =  86\n",
            "[66  1  2  3  4 46  6 50 50 44 10 11 37 13 14 15 16 17 50 19 20 21 22 23\n",
            " 24 25 26 27 28 45 30 31 32 33 34 35 23 37 38 39 40 41 42 43 44 45 46 47\n",
            " 48 49 50 51 21 53 80 55 56 57 68 59 60 61 62 63 64 65 66 67 68 69 70 71\n",
            " 72 73 72 75 76 77 78 79 80 81 82 83 84 85 86 87 88 89 90 91 92 37 94 95\n",
            " 96 97 98 99]\n",
            "NMI/#clusters =  0.625\n",
            "---------------------------------\n",
            "iter 10\n",
            "number of cluster =  87\n",
            "[82  1  2  3  4  5  6 46 46 27 10 11 97 13 14 15 16 17 41 19 20 21 22 36\n",
            " 24 25 26 27 28 24 30 31 32 33 34 35 36 66 38 39 40 41 42 43 44 45 46 47\n",
            " 48 49 50 51 69 53 17 55 56 57 19 59 60 61 62 63 64 65 66 67 68 69 70 71\n",
            " 72 73 74 75 76 77 78 79 80 81 82 83 84 85 86 87 88 89 90 91 92 66 94 95\n",
            " 96 97 98 99]\n",
            "NMI/#clusters =  0.614\n",
            "---------------------------------\n",
            "iter 11\n",
            "number of cluster =  85\n",
            "[72  1  2  3  4  5  6  7 62 45 10 11 25 13 14 15 16  5 74 19 20 21 22 23\n",
            "  7 25 26 27 28  7 30 31 32 33 34 35 36 23 38 39 40 41 42 43 44 45 79 47\n",
            " 48 49 50 51 32 53  5 55 56 57 66 59 60 61 62 63 64 65 66 67 68 69 70 71\n",
            " 72 73 74 75 76 77 78 79 80 81 82 83 84 85 86 87 88 89 90 91 92 61 94 95\n",
            " 96 82 98 99]\n",
            "NMI/#clusters =  0.626\n",
            "---------------------------------\n",
            "iter 12\n",
            "number of cluster =  80\n",
            "[58  1  2  3  4  6  6 47 75 71 10 11 43 13 14 15 16  6 10 19 20 21 22 37\n",
            " 24 25 26 27  6 47 30 31 50 33 34 35 36 37 38 39 40 41 42 43 44 45 87 47\n",
            " 48 49 50 51 50 53  6 55 56 57 58 59 60 66 62 63 64 65 66 67 68 69 70 71\n",
            " 25 73 74 75 76 77 78 79 80 81 62 83 84 85 86 87 88 89 90 91 92 66 94 95\n",
            " 96 62 98 99]\n",
            "NMI/#clusters =  0.645\n",
            "---------------------------------\n",
            "iter 13\n",
            "number of cluster =  83\n",
            "[ 0  1  2  3  4  5  5 58  8  0 98 11 56 13 14 15 16  5 98 19 20 21 22 37\n",
            " 24 25 26 27 28 27 30 31 32 33 34 35 36 37 38 39 40 41 42 43 44 45 28 47\n",
            " 48 49 80 51 80 53 43 55 56 57 58 59 60 61 66 63 64 65 66 67 68 69 70 71\n",
            "  0 73 74 75 76 77 78 79 80 81 93 83 84 85 86 87 88 89 90 91 92 93 94 95\n",
            " 96 66 98 99]\n",
            "NMI/#clusters =  0.639\n",
            "---------------------------------\n",
            "iter 14\n",
            "number of cluster =  79\n",
            "[94  1  2  3  4  6  6 41  8 74 10 11  2 13 14 15 16 41 62 19 20 21 22 37\n",
            " 24 25 26 73 61 73 30 31 32 33 34 35 36 37 38 39 40 41 42 56 44 45 61 47\n",
            " 48 49 50 51 50 53 56 55 56 57 41 59 60 61 62 63 64 65 85 67 68 69 70 71\n",
            " 94 73 74 75 76 77 78 79 80 81 62 83 84 85 86 87 88 89 90 91 92 93 94 95\n",
            " 93 85 98 99]\n",
            "NMI/#clusters =  0.649\n",
            "---------------------------------\n",
            "iter 15\n",
            "number of cluster =  86\n",
            "[ 0  1  0  3  4  5  6  7  8 94 10 11  0 13 14 15 16 17  6 19 20 21 22 23\n",
            " 24 25 26  5 28 23 30 31 32 33 34 35 36 37 38 39 40 41 42 43 44 45 23 47\n",
            " 48 49 69 51 69 53 87 55 56 57 95 59 60 61 23 63 64 65 66 67 68 69 70 71\n",
            " 66 73 74 75 76 77 78 79 80 81 23 83 84 85 86 87 88 89 90 91 92 93 94 95\n",
            " 96 97 98 99]\n",
            "NMI/#clusters =  0.615\n",
            "---------------------------------\n",
            "iter 16\n",
            "number of cluster =  85\n",
            "[93  1 93  3  4 18  6  7  8 82 10 11 79 13 14 15 16 17 18 19 20 21 22  7\n",
            " 24 25 26 18 28  7 30 31 32 33 34 35 36 37 38 39 40 41 42 43 44 45 46 47\n",
            " 48 49 50 51 82 53 60 55 56 57 58 59 60 58 62 63 64 65 66 67 68 69 82 71\n",
            " 66 73 74 75 76 77 78 79 80 81 82 83 84 85 86 87 88 89 46 91 92 93 82 95\n",
            " 96 97 98 99]\n",
            "NMI/#clusters =  0.617\n",
            "---------------------------------\n",
            "iter 17\n",
            "number of cluster =  88\n",
            "[ 0  1 93  3  4  5  6  6  8 24 10 11 51 13 14 15 16 17 23 19 20 21 22 23\n",
            " 24 25 26 23 28  6 30 31 32 33 34 35 36 37 38 39 40 41 42 43 44 45 58 47\n",
            " 48 49 50 51 21 53 10 55 56 57 58 59 60 61 62 63 64 65 66 67 68 69 70 71\n",
            " 66 73 74 75 76 77 78 79 80 81 82 83 84 85 86 87 88 89 58 91 92 93 94 95\n",
            " 96 97 98 99]\n",
            "NMI/#clusters =  0.616\n",
            "---------------------------------\n",
            "iter 18\n",
            "number of cluster =  85\n",
            "[82  1  2  3  4  5 93 93  8  5 73 11 50 13 14 15 16 17 48 19 20 28 22 27\n",
            " 24 25 26 27 28 30 30 31 32 33 34 35 36 37 38 39 40 41 42 43 44 45 83 47\n",
            " 48 49 50 51 28 53 73 55 56 57 66 59 60 61 62 63 64 65 66 67 68 69 70 71\n",
            " 72 73 74 75 76 77 78 79 80 81 82 83 84 85 86 87 88 89 66 91 92 93 94 95\n",
            " 96 97 98 99]\n",
            "NMI/#clusters =  0.628\n",
            "---------------------------------\n",
            "iter 19\n",
            "number of cluster =  85\n",
            "[72  1  2  3  4  5  6 93  8 88 91 11 56 13 14 15 16 17 32 19 20 21 22 27\n",
            " 24 25 26 27 97 62 30 31 32 33 34 35 36 37 38 39 40 41 42 43 44 45  5 47\n",
            " 48 49 50 51 97 53 77 55 56 57 58 59 60 61 62 63 64 65 82 67 68 69 70 71\n",
            " 72 58 74 75 76 77 78 79 80 81 82 83 84 85 86 87 88 89 82 91 92 93 94 95\n",
            " 96 97 98 99]\n",
            "NMI/#clusters =  0.631\n"
          ]
        }
      ]
    },
    {
      "cell_type": "markdown",
      "source": [
        "4. final Result "
      ],
      "metadata": {
        "id": "bShLePkW08se"
      }
    },
    {
      "cell_type": "code",
      "source": [
        "import matplotlib.pyplot as plt\n",
        "plt.plot(scores)\n",
        "plt.show()"
      ],
      "metadata": {
        "colab": {
          "base_uri": "https://localhost:8080/",
          "height": 430
        },
        "id": "ooR69tQr2POV",
        "outputId": "6440ac4e-fe76-40a0-a9d6-5fae248875d2"
      },
      "execution_count": 16,
      "outputs": [
        {
          "output_type": "display_data",
          "data": {
            "text/plain": [
              "<Figure size 640x480 with 1 Axes>"
            ],
            "image/png": "[encoded data removed]"
          },
          "metadata": {}
        }
      ]
    },
    {
      "cell_type": "code",
      "source": [
        "plt.plot(lhood)\n",
        "plt.show()"
      ],
      "metadata": {
        "colab": {
          "base_uri": "https://localhost:8080/",
          "height": 430
        },
        "id": "cKtgXqoHii5J",
        "outputId": "ccdd09dc-03b8-4c70-806f-68b5e5c12f1a"
      },
      "execution_count": 17,
      "outputs": [
        {
          "output_type": "display_data",
          "data": {
            "text/plain": [
              "<Figure size 640x480 with 1 Axes>"
            ],
            "image/png": "[encoded data removed]"
          },
          "metadata": {}
        }
      ]
    },
    {
      "cell_type": "code",
      "source": [
        "from sklearn.metrics import normalized_mutual_info_score\n",
        "print(normalized_mutual_info_score(y,cluster))"
      ],
      "metadata": {
        "colab": {
          "base_uri": "https://localhost:8080/"
        },
        "id": "vyenjpwPg_wo",
        "outputId": "f6a087fe-74d6-48fa-f1aa-b7e8405bf917"
      },
      "execution_count": 18,
      "outputs": [
        {
          "output_type": "stream",
          "name": "stdout",
          "text": [
            "0.5362182315717479\n"
          ]
        }
      ]
    },
    {
      "cell_type": "code",
      "source": [],
      "metadata": {
        "id": "e-6sxPurYh9h"
      },
      "execution_count": null,
      "outputs": []
    }
  ]
}